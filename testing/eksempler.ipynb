{
 "cells": [
  {
   "cell_type": "code",
   "execution_count": 1,
   "metadata": {},
   "outputs": [],
   "source": [
    "import os\n",
    "os.environ['USE_PYGEOS'] = '0'\n",
    "import geopandas as gpd\n",
    "import pandas as pd\n",
    "import numpy as np\n",
    "import shapely\n",
    "\n",
    "import sys\n",
    "while \"geopandasgreier\" not in os.listdir():\n",
    "    os.chdir(\"../\")\n",
    "sys.path.append(os.getcwd())\n",
    "\n",
    "import geopandasgreier as gg"
   ]
  },
  {
   "cell_type": "code",
   "execution_count": 3,
   "metadata": {},
   "outputs": [
    {
     "data": {
      "text/plain": [
       "'0.12.2'"
      ]
     },
     "execution_count": 3,
     "metadata": {},
     "output_type": "execute_result"
    }
   ],
   "source": [
    "gpd.__version__"
   ]
  },
  {
   "cell_type": "code",
   "execution_count": 4,
   "metadata": {},
   "outputs": [
    {
     "data": {
      "text/plain": [
       "'2.0.0'"
      ]
     },
     "execution_count": 4,
     "metadata": {},
     "output_type": "execute_result"
    }
   ],
   "source": [
    "shapely.__version__"
   ]
  },
  {
   "cell_type": "code",
   "execution_count": 5,
   "metadata": {},
   "outputs": [
    {
     "data": {
      "text/plain": [
       "'1.5.2'"
      ]
     },
     "execution_count": 5,
     "metadata": {},
     "output_type": "execute_result"
    }
   ],
   "source": [
    "pd.__version__"
   ]
  },
  {
   "cell_type": "code",
   "execution_count": 6,
   "metadata": {},
   "outputs": [
    {
     "data": {
      "text/plain": [
       "'1.24.0'"
      ]
     },
     "execution_count": 6,
     "metadata": {},
     "output_type": "execute_result"
    }
   ],
   "source": [
    "np.__version__"
   ]
  },
  {
   "cell_type": "markdown",
   "metadata": {},
   "source": [
    "#### klargjør noe testdata"
   ]
  },
  {
   "cell_type": "code",
   "execution_count": 7,
   "metadata": {},
   "outputs": [
    {
     "data": {
      "text/html": [
       "<div>\n",
       "<style scoped>\n",
       "    .dataframe tbody tr th:only-of-type {\n",
       "        vertical-align: middle;\n",
       "    }\n",
       "\n",
       "    .dataframe tbody tr th {\n",
       "        vertical-align: top;\n",
       "    }\n",
       "\n",
       "    .dataframe thead th {\n",
       "        text-align: right;\n",
       "    }\n",
       "</style>\n",
       "<table border=\"1\" class=\"dataframe\">\n",
       "  <thead>\n",
       "    <tr style=\"text-align: right;\">\n",
       "      <th></th>\n",
       "      <th>KOMMUNENR</th>\n",
       "      <th>FYLKE</th>\n",
       "      <th>tilfeldige_tall</th>\n",
       "      <th>geometry</th>\n",
       "    </tr>\n",
       "  </thead>\n",
       "  <tbody>\n",
       "    <tr>\n",
       "      <th>0</th>\n",
       "      <td>5031</td>\n",
       "      <td>50</td>\n",
       "      <td>0.521113</td>\n",
       "      <td>MULTIPOLYGON (((292666.430 7030892.790, 292665...</td>\n",
       "    </tr>\n",
       "    <tr>\n",
       "      <th>1</th>\n",
       "      <td>4636</td>\n",
       "      <td>46</td>\n",
       "      <td>0.681105</td>\n",
       "      <td>MULTIPOLYGON (((-83202.730 6837229.930, -68694...</td>\n",
       "    </tr>\n",
       "    <tr>\n",
       "      <th>2</th>\n",
       "      <td>3019</td>\n",
       "      <td>30</td>\n",
       "      <td>0.975947</td>\n",
       "      <td>MULTIPOLYGON (((253411.310 6612055.150, 253424...</td>\n",
       "    </tr>\n",
       "    <tr>\n",
       "      <th>3</th>\n",
       "      <td>3032</td>\n",
       "      <td>30</td>\n",
       "      <td>0.664422</td>\n",
       "      <td>MULTIPOLYGON (((273757.930 6667604.770, 273744...</td>\n",
       "    </tr>\n",
       "    <tr>\n",
       "      <th>4</th>\n",
       "      <td>3043</td>\n",
       "      <td>30</td>\n",
       "      <td>0.141099</td>\n",
       "      <td>MULTIPOLYGON (((132165.210 6747704.890, 132188...</td>\n",
       "    </tr>\n",
       "    <tr>\n",
       "      <th>...</th>\n",
       "      <td>...</td>\n",
       "      <td>...</td>\n",
       "      <td>...</td>\n",
       "      <td>...</td>\n",
       "    </tr>\n",
       "    <tr>\n",
       "      <th>358</th>\n",
       "      <td>3816</td>\n",
       "      <td>38</td>\n",
       "      <td>0.309817</td>\n",
       "      <td>MULTIPOLYGON (((172731.930 6573204.140, 173183...</td>\n",
       "    </tr>\n",
       "    <tr>\n",
       "      <th>359</th>\n",
       "      <td>3807</td>\n",
       "      <td>38</td>\n",
       "      <td>0.794303</td>\n",
       "      <td>MULTIPOLYGON (((179006.300 6585348.590, 176235...</td>\n",
       "    </tr>\n",
       "    <tr>\n",
       "      <th>360</th>\n",
       "      <td>3022</td>\n",
       "      <td>30</td>\n",
       "      <td>0.937899</td>\n",
       "      <td>MULTIPOLYGON (((249548.040 6626600.630, 249525...</td>\n",
       "    </tr>\n",
       "    <tr>\n",
       "      <th>361</th>\n",
       "      <td>3021</td>\n",
       "      <td>30</td>\n",
       "      <td>0.387547</td>\n",
       "      <td>MULTIPOLYGON (((260434.600 6624416.550, 260448...</td>\n",
       "    </tr>\n",
       "    <tr>\n",
       "      <th>362</th>\n",
       "      <td>5026</td>\n",
       "      <td>50</td>\n",
       "      <td>0.792636</td>\n",
       "      <td>MULTIPOLYGON (((294275.900 6986915.990, 294276...</td>\n",
       "    </tr>\n",
       "  </tbody>\n",
       "</table>\n",
       "<p>363 rows × 4 columns</p>\n",
       "</div>"
      ],
      "text/plain": [
       "    KOMMUNENR FYLKE  tilfeldige_tall  \\\n",
       "0        5031    50         0.521113   \n",
       "1        4636    46         0.681105   \n",
       "2        3019    30         0.975947   \n",
       "3        3032    30         0.664422   \n",
       "4        3043    30         0.141099   \n",
       "..        ...   ...              ...   \n",
       "358      3816    38         0.309817   \n",
       "359      3807    38         0.794303   \n",
       "360      3022    30         0.937899   \n",
       "361      3021    30         0.387547   \n",
       "362      5026    50         0.792636   \n",
       "\n",
       "                                              geometry  \n",
       "0    MULTIPOLYGON (((292666.430 7030892.790, 292665...  \n",
       "1    MULTIPOLYGON (((-83202.730 6837229.930, -68694...  \n",
       "2    MULTIPOLYGON (((253411.310 6612055.150, 253424...  \n",
       "3    MULTIPOLYGON (((273757.930 6667604.770, 273744...  \n",
       "4    MULTIPOLYGON (((132165.210 6747704.890, 132188...  \n",
       "..                                                 ...  \n",
       "358  MULTIPOLYGON (((172731.930 6573204.140, 173183...  \n",
       "359  MULTIPOLYGON (((179006.300 6585348.590, 176235...  \n",
       "360  MULTIPOLYGON (((249548.040 6626600.630, 249525...  \n",
       "361  MULTIPOLYGON (((260434.600 6624416.550, 260448...  \n",
       "362  MULTIPOLYGON (((294275.900 6986915.990, 294276...  \n",
       "\n",
       "[363 rows x 4 columns]"
      ]
     },
     "execution_count": 7,
     "metadata": {},
     "output_type": "execute_result"
    }
   ],
   "source": [
    "kommuner = gpd.read_file(r\"C:\\Users\\ort\\OneDrive - Statistisk sentralbyrå\\data\\Basisdata_0000_Norge_25833_Kommuner_FGDB.gdb\", \n",
    "                        layer=\"kommune\")\n",
    "kommuner[\"KOMMUNENR\"] = kommuner.kommunenummer\n",
    "\n",
    "kommuner[\"FYLKE\"] = kommuner.KOMMUNENR.map(lambda x: str(x)[:2])\n",
    "kommuner[\"tilfeldige_tall\"] = np.random.rand(len(kommuner))\n",
    "kommuner = kommuner[[\"KOMMUNENR\", \"FYLKE\", \"tilfeldige_tall\", \"geometry\"]]\n",
    "kommuner"
   ]
  },
  {
   "cell_type": "markdown",
   "metadata": {},
   "source": [
    "#### Buffer"
   ]
  },
  {
   "cell_type": "code",
   "execution_count": 8,
   "metadata": {},
   "outputs": [
    {
     "data": {
      "text/html": [
       "<div>\n",
       "<style scoped>\n",
       "    .dataframe tbody tr th:only-of-type {\n",
       "        vertical-align: middle;\n",
       "    }\n",
       "\n",
       "    .dataframe tbody tr th {\n",
       "        vertical-align: top;\n",
       "    }\n",
       "\n",
       "    .dataframe thead th {\n",
       "        text-align: right;\n",
       "    }\n",
       "</style>\n",
       "<table border=\"1\" class=\"dataframe\">\n",
       "  <thead>\n",
       "    <tr style=\"text-align: right;\">\n",
       "      <th></th>\n",
       "      <th>KOMMUNENR</th>\n",
       "      <th>FYLKE</th>\n",
       "      <th>tilfeldige_tall</th>\n",
       "      <th>geometry</th>\n",
       "    </tr>\n",
       "  </thead>\n",
       "  <tbody>\n",
       "    <tr>\n",
       "      <th>0</th>\n",
       "      <td>5031</td>\n",
       "      <td>50</td>\n",
       "      <td>0.521113</td>\n",
       "      <td>POLYGON ((292657.401 7030888.492, 292657.274 7...</td>\n",
       "    </tr>\n",
       "    <tr>\n",
       "      <th>1</th>\n",
       "      <td>4636</td>\n",
       "      <td>46</td>\n",
       "      <td>0.681105</td>\n",
       "      <td>POLYGON ((-83212.496 6837232.080, -83212.424 6...</td>\n",
       "    </tr>\n",
       "    <tr>\n",
       "      <th>2</th>\n",
       "      <td>3019</td>\n",
       "      <td>30</td>\n",
       "      <td>0.975947</td>\n",
       "      <td>POLYGON ((253401.395 6612056.451, 253414.135 6...</td>\n",
       "    </tr>\n",
       "    <tr>\n",
       "      <th>3</th>\n",
       "      <td>3032</td>\n",
       "      <td>30</td>\n",
       "      <td>0.664422</td>\n",
       "      <td>POLYGON ((273288.116 6672782.247, 273291.630 6...</td>\n",
       "    </tr>\n",
       "    <tr>\n",
       "      <th>4</th>\n",
       "      <td>3043</td>\n",
       "      <td>30</td>\n",
       "      <td>0.141099</td>\n",
       "      <td>POLYGON ((119876.976 6757743.487, 119855.677 6...</td>\n",
       "    </tr>\n",
       "    <tr>\n",
       "      <th>...</th>\n",
       "      <td>...</td>\n",
       "      <td>...</td>\n",
       "      <td>...</td>\n",
       "      <td>...</td>\n",
       "    </tr>\n",
       "    <tr>\n",
       "      <th>358</th>\n",
       "      <td>3816</td>\n",
       "      <td>38</td>\n",
       "      <td>0.309817</td>\n",
       "      <td>POLYGON ((172723.901 6573210.101, 172724.094 6...</td>\n",
       "    </tr>\n",
       "    <tr>\n",
       "      <th>359</th>\n",
       "      <td>3807</td>\n",
       "      <td>38</td>\n",
       "      <td>0.794303</td>\n",
       "      <td>POLYGON ((172907.221 6578098.400, 172907.123 6...</td>\n",
       "    </tr>\n",
       "    <tr>\n",
       "      <th>360</th>\n",
       "      <td>3022</td>\n",
       "      <td>30</td>\n",
       "      <td>0.937899</td>\n",
       "      <td>POLYGON ((249538.162 6626599.075, 249516.111 6...</td>\n",
       "    </tr>\n",
       "    <tr>\n",
       "      <th>361</th>\n",
       "      <td>3021</td>\n",
       "      <td>30</td>\n",
       "      <td>0.387547</td>\n",
       "      <td>POLYGON ((256500.812 6620929.905, 256500.220 6...</td>\n",
       "    </tr>\n",
       "    <tr>\n",
       "      <th>362</th>\n",
       "      <td>5026</td>\n",
       "      <td>50</td>\n",
       "      <td>0.792636</td>\n",
       "      <td>POLYGON ((293192.658 6968544.827, 292428.630 6...</td>\n",
       "    </tr>\n",
       "  </tbody>\n",
       "</table>\n",
       "<p>363 rows × 4 columns</p>\n",
       "</div>"
      ],
      "text/plain": [
       "    KOMMUNENR FYLKE  tilfeldige_tall  \\\n",
       "0        5031    50         0.521113   \n",
       "1        4636    46         0.681105   \n",
       "2        3019    30         0.975947   \n",
       "3        3032    30         0.664422   \n",
       "4        3043    30         0.141099   \n",
       "..        ...   ...              ...   \n",
       "358      3816    38         0.309817   \n",
       "359      3807    38         0.794303   \n",
       "360      3022    30         0.937899   \n",
       "361      3021    30         0.387547   \n",
       "362      5026    50         0.792636   \n",
       "\n",
       "                                              geometry  \n",
       "0    POLYGON ((292657.401 7030888.492, 292657.274 7...  \n",
       "1    POLYGON ((-83212.496 6837232.080, -83212.424 6...  \n",
       "2    POLYGON ((253401.395 6612056.451, 253414.135 6...  \n",
       "3    POLYGON ((273288.116 6672782.247, 273291.630 6...  \n",
       "4    POLYGON ((119876.976 6757743.487, 119855.677 6...  \n",
       "..                                                 ...  \n",
       "358  POLYGON ((172723.901 6573210.101, 172724.094 6...  \n",
       "359  POLYGON ((172907.221 6578098.400, 172907.123 6...  \n",
       "360  POLYGON ((249538.162 6626599.075, 249516.111 6...  \n",
       "361  POLYGON ((256500.812 6620929.905, 256500.220 6...  \n",
       "362  POLYGON ((293192.658 6968544.827, 292428.630 6...  \n",
       "\n",
       "[363 rows x 4 columns]"
      ]
     },
     "execution_count": 8,
     "metadata": {},
     "output_type": "execute_result"
    }
   ],
   "source": [
    "kommuner_bufret = gg.buff(kommuner, 10)\n",
    "kommuner_bufret"
   ]
  },
  {
   "cell_type": "markdown",
   "metadata": {},
   "source": [
    "#### Dissolve"
   ]
  },
  {
   "cell_type": "code",
   "execution_count": 9,
   "metadata": {},
   "outputs": [
    {
     "name": "stderr",
     "output_type": "stream",
     "text": [
      "c:\\Users\\ort\\Anaconda3\\envs\\geo_env311\\Lib\\site-packages\\geopandas\\geodataframe.py:1676: FutureWarning: The default value of numeric_only in DataFrameGroupBy.sum is deprecated. In a future version, numeric_only will default to False. Either specify numeric_only or select only columns which should be valid for the function.\n",
      "  aggregated_data = data.groupby(**groupby_kwargs).agg(aggfunc)\n"
     ]
    },
    {
     "data": {
      "text/html": [
       "<div>\n",
       "<style scoped>\n",
       "    .dataframe tbody tr th:only-of-type {\n",
       "        vertical-align: middle;\n",
       "    }\n",
       "\n",
       "    .dataframe tbody tr th {\n",
       "        vertical-align: top;\n",
       "    }\n",
       "\n",
       "    .dataframe thead th {\n",
       "        text-align: right;\n",
       "    }\n",
       "</style>\n",
       "<table border=\"1\" class=\"dataframe\">\n",
       "  <thead>\n",
       "    <tr style=\"text-align: right;\">\n",
       "      <th></th>\n",
       "      <th>index</th>\n",
       "      <th>geometry</th>\n",
       "      <th>tilfeldige_tall</th>\n",
       "    </tr>\n",
       "  </thead>\n",
       "  <tbody>\n",
       "    <tr>\n",
       "      <th>0</th>\n",
       "      <td>0</td>\n",
       "      <td>POLYGON ((-1700.714 6445928.387, -1851.914 644...</td>\n",
       "      <td>178.093614</td>\n",
       "    </tr>\n",
       "  </tbody>\n",
       "</table>\n",
       "</div>"
      ],
      "text/plain": [
       "   index                                           geometry  tilfeldige_tall\n",
       "0      0  POLYGON ((-1700.714 6445928.387, -1851.914 644...       178.093614"
      ]
     },
     "execution_count": 9,
     "metadata": {},
     "output_type": "execute_result"
    }
   ],
   "source": [
    "kommuner_dissolvet = gg.diss(kommuner)\n",
    "kommuner_dissolvet"
   ]
  },
  {
   "cell_type": "code",
   "execution_count": 10,
   "metadata": {},
   "outputs": [
    {
     "data": {
      "text/html": [
       "<div>\n",
       "<style scoped>\n",
       "    .dataframe tbody tr th:only-of-type {\n",
       "        vertical-align: middle;\n",
       "    }\n",
       "\n",
       "    .dataframe tbody tr th {\n",
       "        vertical-align: top;\n",
       "    }\n",
       "\n",
       "    .dataframe thead th {\n",
       "        text-align: right;\n",
       "    }\n",
       "</style>\n",
       "<table border=\"1\" class=\"dataframe\">\n",
       "  <thead>\n",
       "    <tr style=\"text-align: right;\">\n",
       "      <th></th>\n",
       "      <th>FYLKE</th>\n",
       "      <th>geometry</th>\n",
       "      <th>tilfeldige_tall_mean</th>\n",
       "      <th>tilfeldige_tall_sum</th>\n",
       "    </tr>\n",
       "  </thead>\n",
       "  <tbody>\n",
       "    <tr>\n",
       "      <th>0</th>\n",
       "      <td>03</td>\n",
       "      <td>POLYGON ((250410.834 6659847.975, 250292.496 6...</td>\n",
       "      <td>0.494749</td>\n",
       "      <td>0.494749</td>\n",
       "    </tr>\n",
       "    <tr>\n",
       "      <th>1</th>\n",
       "      <td>11</td>\n",
       "      <td>POLYGON ((-54041.605 6504875.650, -56502.055 6...</td>\n",
       "      <td>0.432391</td>\n",
       "      <td>9.944985</td>\n",
       "    </tr>\n",
       "    <tr>\n",
       "      <th>2</th>\n",
       "      <td>15</td>\n",
       "      <td>POLYGON ((104175.981 6907211.339, 104551.084 6...</td>\n",
       "      <td>0.459222</td>\n",
       "      <td>11.939765</td>\n",
       "    </tr>\n",
       "    <tr>\n",
       "      <th>3</th>\n",
       "      <td>18</td>\n",
       "      <td>POLYGON ((355506.615 7222335.887, 355510.771 7...</td>\n",
       "      <td>0.452522</td>\n",
       "      <td>18.553399</td>\n",
       "    </tr>\n",
       "    <tr>\n",
       "      <th>4</th>\n",
       "      <td>30</td>\n",
       "      <td>POLYGON ((239793.781 6608130.595, 239793.475 6...</td>\n",
       "      <td>0.465459</td>\n",
       "      <td>24.203884</td>\n",
       "    </tr>\n",
       "    <tr>\n",
       "      <th>5</th>\n",
       "      <td>34</td>\n",
       "      <td>POLYGON ((189959.313 6740764.183, 189959.002 6...</td>\n",
       "      <td>0.484893</td>\n",
       "      <td>22.305095</td>\n",
       "    </tr>\n",
       "    <tr>\n",
       "      <th>6</th>\n",
       "      <td>38</td>\n",
       "      <td>POLYGON ((187036.347 6607474.045, 187041.190 6...</td>\n",
       "      <td>0.516731</td>\n",
       "      <td>13.434999</td>\n",
       "    </tr>\n",
       "    <tr>\n",
       "      <th>7</th>\n",
       "      <td>42</td>\n",
       "      <td>POLYGON ((77252.772 6428935.708, 74938.342 642...</td>\n",
       "      <td>0.509086</td>\n",
       "      <td>12.727152</td>\n",
       "    </tr>\n",
       "    <tr>\n",
       "      <th>8</th>\n",
       "      <td>46</td>\n",
       "      <td>POLYGON ((-29571.600 6655233.001, -29571.604 6...</td>\n",
       "      <td>0.484176</td>\n",
       "      <td>21.303754</td>\n",
       "    </tr>\n",
       "    <tr>\n",
       "      <th>9</th>\n",
       "      <td>50</td>\n",
       "      <td>POLYGON ((201888.259 6951868.539, 201854.285 6...</td>\n",
       "      <td>0.504948</td>\n",
       "      <td>20.197919</td>\n",
       "    </tr>\n",
       "    <tr>\n",
       "      <th>10</th>\n",
       "      <td>54</td>\n",
       "      <td>POLYGON ((622684.065 7613578.581, 622683.772 7...</td>\n",
       "      <td>0.589434</td>\n",
       "      <td>22.987914</td>\n",
       "    </tr>\n",
       "  </tbody>\n",
       "</table>\n",
       "</div>"
      ],
      "text/plain": [
       "   FYLKE                                           geometry  \\\n",
       "0     03  POLYGON ((250410.834 6659847.975, 250292.496 6...   \n",
       "1     11  POLYGON ((-54041.605 6504875.650, -56502.055 6...   \n",
       "2     15  POLYGON ((104175.981 6907211.339, 104551.084 6...   \n",
       "3     18  POLYGON ((355506.615 7222335.887, 355510.771 7...   \n",
       "4     30  POLYGON ((239793.781 6608130.595, 239793.475 6...   \n",
       "5     34  POLYGON ((189959.313 6740764.183, 189959.002 6...   \n",
       "6     38  POLYGON ((187036.347 6607474.045, 187041.190 6...   \n",
       "7     42  POLYGON ((77252.772 6428935.708, 74938.342 642...   \n",
       "8     46  POLYGON ((-29571.600 6655233.001, -29571.604 6...   \n",
       "9     50  POLYGON ((201888.259 6951868.539, 201854.285 6...   \n",
       "10    54  POLYGON ((622684.065 7613578.581, 622683.772 7...   \n",
       "\n",
       "    tilfeldige_tall_mean  tilfeldige_tall_sum  \n",
       "0               0.494749             0.494749  \n",
       "1               0.432391             9.944985  \n",
       "2               0.459222            11.939765  \n",
       "3               0.452522            18.553399  \n",
       "4               0.465459            24.203884  \n",
       "5               0.484893            22.305095  \n",
       "6               0.516731            13.434999  \n",
       "7               0.509086            12.727152  \n",
       "8               0.484176            21.303754  \n",
       "9               0.504948            20.197919  \n",
       "10              0.589434            22.987914  "
      ]
     },
     "execution_count": 10,
     "metadata": {},
     "output_type": "execute_result"
    }
   ],
   "source": [
    "kommuner_dissolvet_by = gg.diss(kommuner.drop(\"KOMMUNENR\", axis=1, errors=\"ignore\"), \n",
    "                                by=\"FYLKE\", \n",
    "                                aggfunc=(\"mean\", \"sum\"))\n",
    "kommuner_dissolvet_by"
   ]
  },
  {
   "cell_type": "code",
   "execution_count": 11,
   "metadata": {},
   "outputs": [
    {
     "data": {
      "text/html": [
       "<div>\n",
       "<style scoped>\n",
       "    .dataframe tbody tr th:only-of-type {\n",
       "        vertical-align: middle;\n",
       "    }\n",
       "\n",
       "    .dataframe tbody tr th {\n",
       "        vertical-align: top;\n",
       "    }\n",
       "\n",
       "    .dataframe thead th {\n",
       "        text-align: right;\n",
       "    }\n",
       "</style>\n",
       "<table border=\"1\" class=\"dataframe\">\n",
       "  <thead>\n",
       "    <tr style=\"text-align: right;\">\n",
       "      <th></th>\n",
       "      <th>FYLKE</th>\n",
       "      <th>KOMMUNENR</th>\n",
       "      <th>geometry</th>\n",
       "      <th>tilfeldige_tall_sum</th>\n",
       "      <th>tilfeldige_tall_median</th>\n",
       "      <th>tilfeldige_tall_mean</th>\n",
       "    </tr>\n",
       "  </thead>\n",
       "  <tbody>\n",
       "    <tr>\n",
       "      <th>0</th>\n",
       "      <td>03</td>\n",
       "      <td>0301</td>\n",
       "      <td>POLYGON ((250410.834 6659847.975, 250292.496 6...</td>\n",
       "      <td>0.494749</td>\n",
       "      <td>0.494749</td>\n",
       "      <td>0.494749</td>\n",
       "    </tr>\n",
       "    <tr>\n",
       "      <th>1</th>\n",
       "      <td>11</td>\n",
       "      <td>1101</td>\n",
       "      <td>POLYGON ((-32742.179 6518263.597, -32736.597 6...</td>\n",
       "      <td>0.681974</td>\n",
       "      <td>0.681974</td>\n",
       "      <td>0.681974</td>\n",
       "    </tr>\n",
       "    <tr>\n",
       "      <th>2</th>\n",
       "      <td>11</td>\n",
       "      <td>1103</td>\n",
       "      <td>POLYGON ((-42642.820 6593085.154, -42642.897 6...</td>\n",
       "      <td>0.988764</td>\n",
       "      <td>0.988764</td>\n",
       "      <td>0.988764</td>\n",
       "    </tr>\n",
       "    <tr>\n",
       "      <th>3</th>\n",
       "      <td>11</td>\n",
       "      <td>1106</td>\n",
       "      <td>POLYGON ((-69042.847 6632405.022, -70698.000 6...</td>\n",
       "      <td>0.878926</td>\n",
       "      <td>0.878926</td>\n",
       "      <td>0.878926</td>\n",
       "    </tr>\n",
       "    <tr>\n",
       "      <th>4</th>\n",
       "      <td>11</td>\n",
       "      <td>1108</td>\n",
       "      <td>POLYGON ((-40423.306 6558552.498, -40451.229 6...</td>\n",
       "      <td>0.973973</td>\n",
       "      <td>0.973973</td>\n",
       "      <td>0.973973</td>\n",
       "    </tr>\n",
       "    <tr>\n",
       "      <th>...</th>\n",
       "      <td>...</td>\n",
       "      <td>...</td>\n",
       "      <td>...</td>\n",
       "      <td>...</td>\n",
       "      <td>...</td>\n",
       "      <td>...</td>\n",
       "    </tr>\n",
       "    <tr>\n",
       "      <th>351</th>\n",
       "      <td>54</td>\n",
       "      <td>5440</td>\n",
       "      <td>POLYGON ((998624.973 7930004.573, 998625.053 7...</td>\n",
       "      <td>0.858502</td>\n",
       "      <td>0.858502</td>\n",
       "      <td>0.858502</td>\n",
       "    </tr>\n",
       "    <tr>\n",
       "      <th>352</th>\n",
       "      <td>54</td>\n",
       "      <td>5441</td>\n",
       "      <td>POLYGON ((961738.425 7852515.924, 961732.935 7...</td>\n",
       "      <td>0.967571</td>\n",
       "      <td>0.967571</td>\n",
       "      <td>0.967571</td>\n",
       "    </tr>\n",
       "    <tr>\n",
       "      <th>353</th>\n",
       "      <td>54</td>\n",
       "      <td>5442</td>\n",
       "      <td>POLYGON ((1000887.028 7843610.048, 1001366.037...</td>\n",
       "      <td>0.102495</td>\n",
       "      <td>0.102495</td>\n",
       "      <td>0.102495</td>\n",
       "    </tr>\n",
       "    <tr>\n",
       "      <th>354</th>\n",
       "      <td>54</td>\n",
       "      <td>5443</td>\n",
       "      <td>POLYGON ((1033109.231 7899727.068, 1033105.331...</td>\n",
       "      <td>0.963487</td>\n",
       "      <td>0.963487</td>\n",
       "      <td>0.963487</td>\n",
       "    </tr>\n",
       "    <tr>\n",
       "      <th>355</th>\n",
       "      <td>54</td>\n",
       "      <td>5444</td>\n",
       "      <td>POLYGON ((1017683.104 7812866.149, 1018395.734...</td>\n",
       "      <td>0.882886</td>\n",
       "      <td>0.882886</td>\n",
       "      <td>0.882886</td>\n",
       "    </tr>\n",
       "  </tbody>\n",
       "</table>\n",
       "<p>356 rows × 6 columns</p>\n",
       "</div>"
      ],
      "text/plain": [
       "    FYLKE KOMMUNENR                                           geometry  \\\n",
       "0      03      0301  POLYGON ((250410.834 6659847.975, 250292.496 6...   \n",
       "1      11      1101  POLYGON ((-32742.179 6518263.597, -32736.597 6...   \n",
       "2      11      1103  POLYGON ((-42642.820 6593085.154, -42642.897 6...   \n",
       "3      11      1106  POLYGON ((-69042.847 6632405.022, -70698.000 6...   \n",
       "4      11      1108  POLYGON ((-40423.306 6558552.498, -40451.229 6...   \n",
       "..    ...       ...                                                ...   \n",
       "351    54      5440  POLYGON ((998624.973 7930004.573, 998625.053 7...   \n",
       "352    54      5441  POLYGON ((961738.425 7852515.924, 961732.935 7...   \n",
       "353    54      5442  POLYGON ((1000887.028 7843610.048, 1001366.037...   \n",
       "354    54      5443  POLYGON ((1033109.231 7899727.068, 1033105.331...   \n",
       "355    54      5444  POLYGON ((1017683.104 7812866.149, 1018395.734...   \n",
       "\n",
       "     tilfeldige_tall_sum  tilfeldige_tall_median  tilfeldige_tall_mean  \n",
       "0               0.494749                0.494749              0.494749  \n",
       "1               0.681974                0.681974              0.681974  \n",
       "2               0.988764                0.988764              0.988764  \n",
       "3               0.878926                0.878926              0.878926  \n",
       "4               0.973973                0.973973              0.973973  \n",
       "..                   ...                     ...                   ...  \n",
       "351             0.858502                0.858502              0.858502  \n",
       "352             0.967571                0.967571              0.967571  \n",
       "353             0.102495                0.102495              0.102495  \n",
       "354             0.963487                0.963487              0.963487  \n",
       "355             0.882886                0.882886              0.882886  \n",
       "\n",
       "[356 rows x 6 columns]"
      ]
     },
     "execution_count": 11,
     "metadata": {},
     "output_type": "execute_result"
    }
   ],
   "source": [
    "kommuner_dissolvet_by = gg.diss(kommuner,\n",
    "    \n",
    "    by=[\"FYLKE\", \"KOMMUNENR\"], # kan ha flere kolonner\n",
    "    \n",
    "    aggfunc=[\"sum\", \"median\", \"mean\"]\n",
    "    \n",
    "    )\n",
    "kommuner_dissolvet_by"
   ]
  },
  {
   "cell_type": "markdown",
   "metadata": {},
   "source": [
    "### Til singlepart (explode)"
   ]
  },
  {
   "cell_type": "code",
   "execution_count": 12,
   "metadata": {},
   "outputs": [
    {
     "data": {
      "text/html": [
       "<div>\n",
       "<style scoped>\n",
       "    .dataframe tbody tr th:only-of-type {\n",
       "        vertical-align: middle;\n",
       "    }\n",
       "\n",
       "    .dataframe tbody tr th {\n",
       "        vertical-align: top;\n",
       "    }\n",
       "\n",
       "    .dataframe thead th {\n",
       "        text-align: right;\n",
       "    }\n",
       "</style>\n",
       "<table border=\"1\" class=\"dataframe\">\n",
       "  <thead>\n",
       "    <tr style=\"text-align: right;\">\n",
       "      <th></th>\n",
       "      <th>KOMMUNENR</th>\n",
       "      <th>FYLKE</th>\n",
       "      <th>tilfeldige_tall</th>\n",
       "      <th>geometry</th>\n",
       "    </tr>\n",
       "  </thead>\n",
       "  <tbody>\n",
       "    <tr>\n",
       "      <th>0</th>\n",
       "      <td>5031</td>\n",
       "      <td>50</td>\n",
       "      <td>0.521113</td>\n",
       "      <td>POLYGON ((292657.401 7030888.492, 292657.274 7...</td>\n",
       "    </tr>\n",
       "    <tr>\n",
       "      <th>1</th>\n",
       "      <td>4636</td>\n",
       "      <td>46</td>\n",
       "      <td>0.681105</td>\n",
       "      <td>POLYGON ((-83212.496 6837232.080, -83212.424 6...</td>\n",
       "    </tr>\n",
       "    <tr>\n",
       "      <th>2</th>\n",
       "      <td>3019</td>\n",
       "      <td>30</td>\n",
       "      <td>0.975947</td>\n",
       "      <td>POLYGON ((253401.395 6612056.451, 253414.135 6...</td>\n",
       "    </tr>\n",
       "    <tr>\n",
       "      <th>3</th>\n",
       "      <td>3032</td>\n",
       "      <td>30</td>\n",
       "      <td>0.664422</td>\n",
       "      <td>POLYGON ((273288.116 6672782.247, 273291.630 6...</td>\n",
       "    </tr>\n",
       "    <tr>\n",
       "      <th>4</th>\n",
       "      <td>3043</td>\n",
       "      <td>30</td>\n",
       "      <td>0.141099</td>\n",
       "      <td>POLYGON ((119876.976 6757743.487, 119855.677 6...</td>\n",
       "    </tr>\n",
       "    <tr>\n",
       "      <th>...</th>\n",
       "      <td>...</td>\n",
       "      <td>...</td>\n",
       "      <td>...</td>\n",
       "      <td>...</td>\n",
       "    </tr>\n",
       "    <tr>\n",
       "      <th>358</th>\n",
       "      <td>3816</td>\n",
       "      <td>38</td>\n",
       "      <td>0.309817</td>\n",
       "      <td>POLYGON ((172723.901 6573210.101, 172724.094 6...</td>\n",
       "    </tr>\n",
       "    <tr>\n",
       "      <th>359</th>\n",
       "      <td>3807</td>\n",
       "      <td>38</td>\n",
       "      <td>0.794303</td>\n",
       "      <td>POLYGON ((172907.221 6578098.400, 172907.123 6...</td>\n",
       "    </tr>\n",
       "    <tr>\n",
       "      <th>360</th>\n",
       "      <td>3022</td>\n",
       "      <td>30</td>\n",
       "      <td>0.937899</td>\n",
       "      <td>POLYGON ((249538.162 6626599.075, 249516.111 6...</td>\n",
       "    </tr>\n",
       "    <tr>\n",
       "      <th>361</th>\n",
       "      <td>3021</td>\n",
       "      <td>30</td>\n",
       "      <td>0.387547</td>\n",
       "      <td>POLYGON ((256500.812 6620929.905, 256500.220 6...</td>\n",
       "    </tr>\n",
       "    <tr>\n",
       "      <th>362</th>\n",
       "      <td>5026</td>\n",
       "      <td>50</td>\n",
       "      <td>0.792636</td>\n",
       "      <td>POLYGON ((293192.658 6968544.827, 292428.630 6...</td>\n",
       "    </tr>\n",
       "  </tbody>\n",
       "</table>\n",
       "<p>363 rows × 4 columns</p>\n",
       "</div>"
      ],
      "text/plain": [
       "    KOMMUNENR FYLKE  tilfeldige_tall  \\\n",
       "0        5031    50         0.521113   \n",
       "1        4636    46         0.681105   \n",
       "2        3019    30         0.975947   \n",
       "3        3032    30         0.664422   \n",
       "4        3043    30         0.141099   \n",
       "..        ...   ...              ...   \n",
       "358      3816    38         0.309817   \n",
       "359      3807    38         0.794303   \n",
       "360      3022    30         0.937899   \n",
       "361      3021    30         0.387547   \n",
       "362      5026    50         0.792636   \n",
       "\n",
       "                                              geometry  \n",
       "0    POLYGON ((292657.401 7030888.492, 292657.274 7...  \n",
       "1    POLYGON ((-83212.496 6837232.080, -83212.424 6...  \n",
       "2    POLYGON ((253401.395 6612056.451, 253414.135 6...  \n",
       "3    POLYGON ((273288.116 6672782.247, 273291.630 6...  \n",
       "4    POLYGON ((119876.976 6757743.487, 119855.677 6...  \n",
       "..                                                 ...  \n",
       "358  POLYGON ((172723.901 6573210.101, 172724.094 6...  \n",
       "359  POLYGON ((172907.221 6578098.400, 172907.123 6...  \n",
       "360  POLYGON ((249538.162 6626599.075, 249516.111 6...  \n",
       "361  POLYGON ((256500.812 6620929.905, 256500.220 6...  \n",
       "362  POLYGON ((293192.658 6968544.827, 292428.630 6...  \n",
       "\n",
       "[363 rows x 4 columns]"
      ]
     },
     "execution_count": 12,
     "metadata": {},
     "output_type": "execute_result"
    }
   ],
   "source": [
    "gg.exp(kommuner)"
   ]
  },
  {
   "cell_type": "markdown",
   "metadata": {},
   "source": [
    "### Buffer, dissolve og til singlepart"
   ]
  },
  {
   "cell_type": "code",
   "execution_count": 13,
   "metadata": {},
   "outputs": [
    {
     "data": {
      "text/plain": [
       "<AxesSubplot: >"
      ]
     },
     "execution_count": 13,
     "metadata": {},
     "output_type": "execute_result"
    },
    {
     "data": {
      "image/png": "[encoded data removed]",
      "text/plain": [
       "<Figure size 640x480 with 1 Axes>"
      ]
     },
     "metadata": {},
     "output_type": "display_data"
    }
   ],
   "source": [
    "bufret_utinn = gg.buffdissexp(kommuner, 100000)\n",
    "bufret_utinn = gg.tett_hull(bufret_utinn)\n",
    "bufret_utinn = gg.buffdissexp(bufret_utinn, -100000)\n",
    "bufret_utinn.plot()"
   ]
  },
  {
   "cell_type": "markdown",
   "metadata": {},
   "source": [
    "### tett_hull"
   ]
  },
  {
   "cell_type": "code",
   "execution_count": 14,
   "metadata": {},
   "outputs": [
    {
     "name": "stderr",
     "output_type": "stream",
     "text": [
      "c:\\Users\\ort\\Anaconda3\\envs\\geo_env311\\Lib\\site-packages\\geopandas\\geodataframe.py:1676: FutureWarning: The default value of numeric_only in DataFrameGroupBy.sum is deprecated. In a future version, numeric_only will default to False. Either specify numeric_only or select only columns which should be valid for the function.\n",
      "  aggregated_data = data.groupby(**groupby_kwargs).agg(aggfunc)\n"
     ]
    },
    {
     "data": {
      "text/plain": [
       "<AxesSubplot: >"
      ]
     },
     "execution_count": 14,
     "metadata": {},
     "output_type": "execute_result"
    },
    {
     "data": {
      "image/png": "[encoded data removed]",
      "text/plain": [
       "<Figure size 640x480 with 1 Axes>"
      ]
     },
     "metadata": {},
     "output_type": "display_data"
    },
    {
     "data": {
      "image/png": "[encoded data removed]",
      "text/plain": [
       "<Figure size 640x480 with 1 Axes>"
      ]
     },
     "metadata": {},
     "output_type": "display_data"
    },
    {
     "data": {
      "image/png": "[encoded data removed]",
      "text/plain": [
       "<Figure size 640x480 with 1 Axes>"
      ]
     },
     "metadata": {},
     "output_type": "display_data"
    }
   ],
   "source": [
    "import kommfylk\n",
    "naboer_hol = kommfylk.nabokommuner(\"3044\", aar=2022)\n",
    "naboer_hemsedal = kommfylk.nabokommuner(\"3042\", aar=2022)\n",
    "naboer_hol_og_hemsedal = gg.diss(kommuner[kommuner.KOMMUNENR.isin(naboer_hol+naboer_hemsedal)])\n",
    "\n",
    "naboer_hol_og_hemsedal.plot()\n",
    "\n",
    "gg.tett_hull(naboer_hol_og_hemsedal).plot()\n",
    "\n",
    "gg.tett_hull(naboer_hol_og_hemsedal, max_km2 = 1000).plot()"
   ]
  }
 ],
 "metadata": {
  "kernelspec": {
   "display_name": "Python 3.11.0 ('geo_env311')",
   "language": "python",
   "name": "python3"
  },
  "language_info": {
   "codemirror_mode": {
    "name": "ipython",
    "version": 3
   },
   "file_extension": ".py",
   "mimetype": "text/x-python",
   "name": "python",
   "nbconvert_exporter": "python",
   "pygments_lexer": "ipython3",
   "version": "3.11.0"
  },
  "orig_nbformat": 4,
  "vscode": {
   "interpreter": {
    "hash": "6fda90d33d8562a11ba27a339af32445995a4d0a960afc3d94f7e60b8e72ecde"
   }
  }
 },
 "nbformat": 4,
 "nbformat_minor": 2
}
