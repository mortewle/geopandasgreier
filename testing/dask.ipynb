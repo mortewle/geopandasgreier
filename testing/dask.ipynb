{
 "cells": [
  {
   "cell_type": "code",
   "execution_count": 3,
   "metadata": {},
   "outputs": [],
   "source": [
    "import sys\n",
    "sys.path.append(r\"C:\\Users\\ort\\OneDrive - Statistisk sentralbyrå\\Dokumenter\\GitHub\")\n",
    "\n",
    "import geopandas as gpd\n",
    "import dask_geopandas as dg\n",
    "#import geopandasgreier as gg\n",
    "import networkz as nz\n",
    "import time\n",
    "import numpy as np\n",
    "import matplotlib.pyplot as plt"
   ]
  },
  {
   "cell_type": "code",
   "execution_count": 4,
   "metadata": {},
   "outputs": [],
   "source": [
    "def gg_sjoin(left_gdf, right_gdf, dask=False, npartitions=8, **kwargs):\n",
    "\n",
    "    #fjern index-kolonner\n",
    "    left_gdf = left_gdf.loc[:, ~left_gdf.columns.str.contains('index|level_')]\n",
    "    right_gdf = right_gdf.loc[:, ~right_gdf.columns.str.contains('index|level_')]\n",
    "\n",
    "    #fjern kolonner fra gdf2 som er i gdf1\n",
    "    fjernede_kolonner = []\n",
    "    for kolonne in right_gdf.columns:\n",
    "        if kolonne in left_gdf.columns:\n",
    "            if kolonne != \"geometry\":\n",
    "                right_gdf = right_gdf.drop(kolonne, axis=1)\n",
    "                fjernede_kolonner.append(kolonne)\n",
    "    if len(fjernede_kolonner) > 0:\n",
    "        print(f\"OBS: fjerner kolonnene {', '.join(fjernede_kolonner)} fra right_gdf fordi de finnes i left_gdf\")\n",
    "\n",
    "    if not dask and isinstance(left_gdf, gpd.GeoDataFrame) and isinstance(right_gdf, gpd.GeoDataFrame):\n",
    "        joinet = left_gdf.sjoin(right_gdf, **kwargs)\n",
    "\n",
    "    elif dask:\n",
    "        import dask_geopandas as dg\n",
    "        if isinstance(left_gdf, gpd.GeoDataFrame):\n",
    "            left_gdf = dg.from_geopandas(left_gdf.copy(deep=True), npartitions=npartitions)\n",
    "        if isinstance(right_gdf, gpd.GeoDataFrame):\n",
    "            right_gdf = dg.from_geopandas(right_gdf.copy(deep=True), npartitions=npartitions)\n",
    "        joinet = left_gdf.sjoin(right_gdf, **kwargs).compute()\n",
    "\n",
    "    else:\n",
    "        try:\n",
    "            import dask_geopandas as dg\n",
    "            if isinstance(left_gdf, gpd.GeoDataFrame):\n",
    "                left_gdf = dg.from_geopandas(left_gdf.copy(deep=True), npartitions=npartitions)\n",
    "            if isinstance(right_gdf, gpd.GeoDataFrame):\n",
    "                right_gdf = dg.from_geopandas(right_gdf.copy(deep=True), npartitions=npartitions)\n",
    "        except Exception:\n",
    "            raise ValueError(\"sjoin-inputs må enten være gpd.GeoDataFrame eller dask_geopandas.GeoDataFrame (da må også dask_geopandas være installert)\")\n",
    "        joinet = left_gdf.sjoin(right_gdf, **kwargs).compute()\n",
    "        \n",
    "    return joinet.loc[:, ~joinet.columns.str.contains('index|level_')]"
   ]
  },
  {
   "cell_type": "code",
   "execution_count": 18,
   "metadata": {},
   "outputs": [],
   "source": [
    "kommuner = gpd.read_file(r\"C:\\ESTP\\Data\\ESTP\\Day1\\Municipalities_2017.shp\")\n",
    "punkter = nz.tilfeldige_punkter(100000, kommuner)"
   ]
  },
  {
   "cell_type": "code",
   "execution_count": 22,
   "metadata": {},
   "outputs": [
    {
     "name": "stdout",
     "output_type": "stream",
     "text": [
      "100000\n"
     ]
    },
    {
     "data": {
      "image/png": "[encoded data removed]",
      "text/plain": [
       "<Figure size 640x480 with 1 Axes>"
      ]
     },
     "metadata": {},
     "output_type": "display_data"
    }
   ],
   "source": [
    "tider = []\n",
    "\n",
    "tid = time.perf_counter()\n",
    "for _ in range (10):\n",
    "    joinet = gg_sjoin(punkter, kommuner, dask=False)\n",
    "tider.append(time.perf_counter()-tid)\n",
    "\n",
    "for n in [1,2,3,4,5,6,7,8,9,10,11,12,13,14,15,16]:\n",
    "    tid = time.perf_counter()\n",
    "    for _ in range (10):\n",
    "        gg_sjoin(punkter, kommuner, dask=True, npartitions=n)\n",
    "    tider.append(time.perf_counter()-tid)\n",
    "\n",
    "plt.plot(np.array(tider))\n",
    "print(len(joinet))"
   ]
  }
 ],
 "metadata": {
  "kernelspec": {
   "display_name": "Python 3.11.0 ('geo_env311')",
   "language": "python",
   "name": "python3"
  },
  "language_info": {
   "codemirror_mode": {
    "name": "ipython",
    "version": 3
   },
   "file_extension": ".py",
   "mimetype": "text/x-python",
   "name": "python",
   "nbconvert_exporter": "python",
   "pygments_lexer": "ipython3",
   "version": "3.11.0"
  },
  "orig_nbformat": 4,
  "vscode": {
   "interpreter": {
    "hash": "6fda90d33d8562a11ba27a339af32445995a4d0a960afc3d94f7e60b8e72ecde"
   }
  }
 },
 "nbformat": 4,
 "nbformat_minor": 2
}
