{
 "cells": [
  {
   "cell_type": "code",
   "execution_count": 1,
   "metadata": {},
   "outputs": [],
   "source": [
    "import geopandas as gpd"
   ]
  },
  {
   "cell_type": "code",
   "execution_count": 4,
   "metadata": {},
   "outputs": [],
   "source": [
    "punkter = gpd.read_parquet(f\"C:/Users/ort/OneDrive - Statistisk sentralbyrå/data/tilfeldige_adresser_1000.parquet\")"
   ]
  },
  {
   "cell_type": "markdown",
   "metadata": {},
   "source": [
    "Hvis man vil lage egne geopandas-funksjoner, for eksempel en skreddersydd dissolve:"
   ]
  },
  {
   "cell_type": "code",
   "execution_count": 3,
   "metadata": {},
   "outputs": [],
   "source": [
    "def diss(gdf, **qwargs):\n",
    "\n",
    "    kopi = gdf.copy()\n",
    "    kopi = kopi.loc[:, ~kopi.columns.str.contains('index|level_')]\n",
    "    \n",
    "    dissolvet = kopi.dissolve(**qwargs)\n",
    "\n",
    "    dissolvet[\"geometry\"] = dissolvet.geometry.apply(lambda x: x.buffer(0) if x.buffer(0).is_empty==False else x) #buffer(0) gir EMPTY POLYGON for punkter og linjer\n",
    "    \n",
    "    dissolvet = dissolvet.reset_index()\n",
    "    \n",
    "    dissolvet.columns = [\"_\".join(kolonne).strip(\"_\") \n",
    "                         if isinstance(kolonne, tuple) else kolonne \n",
    "                         for kolonne in dissolvet.columns]\n",
    "\n",
    "    return dissolvet.loc[:, ~dissolvet.columns.str.contains('index|level_')]"
   ]
  },
  {
   "cell_type": "markdown",
   "metadata": {},
   "source": [
    "Kan denne utføres sånn:"
   ]
  },
  {
   "cell_type": "code",
   "execution_count": 4,
   "metadata": {},
   "outputs": [
    {
     "data": {
      "text/html": [
       "<div>\n",
       "<style scoped>\n",
       "    .dataframe tbody tr th:only-of-type {\n",
       "        vertical-align: middle;\n",
       "    }\n",
       "\n",
       "    .dataframe tbody tr th {\n",
       "        vertical-align: top;\n",
       "    }\n",
       "\n",
       "    .dataframe thead th {\n",
       "        text-align: right;\n",
       "    }\n",
       "</style>\n",
       "<table border=\"1\" class=\"dataframe\">\n",
       "  <thead>\n",
       "    <tr style=\"text-align: right;\">\n",
       "      <th></th>\n",
       "      <th>geometry</th>\n",
       "      <th>idx</th>\n",
       "    </tr>\n",
       "  </thead>\n",
       "  <tbody>\n",
       "    <tr>\n",
       "      <th>0</th>\n",
       "      <td>MULTIPOINT (254575.200 6661631.500, 255727.900...</td>\n",
       "      <td>1</td>\n",
       "    </tr>\n",
       "  </tbody>\n",
       "</table>\n",
       "</div>"
      ],
      "text/plain": [
       "                                            geometry  idx\n",
       "0  MULTIPOINT (254575.200 6661631.500, 255727.900...    1"
      ]
     },
     "execution_count": 4,
     "metadata": {},
     "output_type": "execute_result"
    }
   ],
   "source": [
    "dissolvet = diss(punkter)\n",
    "dissolvet"
   ]
  },
  {
   "cell_type": "markdown",
   "metadata": {},
   "source": [
    "Alternativt kan man legge funksjonen til i pandas.DataFrame-classen sånn her:"
   ]
  },
  {
   "cell_type": "code",
   "execution_count": 5,
   "metadata": {},
   "outputs": [],
   "source": [
    "from pandas.core.base import PandasObject\n",
    "PandasObject.diss = diss"
   ]
  },
  {
   "cell_type": "markdown",
   "metadata": {},
   "source": [
    "Da kan man skrive det sånn:"
   ]
  },
  {
   "cell_type": "code",
   "execution_count": 6,
   "metadata": {},
   "outputs": [
    {
     "data": {
      "text/html": [
       "<div>\n",
       "<style scoped>\n",
       "    .dataframe tbody tr th:only-of-type {\n",
       "        vertical-align: middle;\n",
       "    }\n",
       "\n",
       "    .dataframe tbody tr th {\n",
       "        vertical-align: top;\n",
       "    }\n",
       "\n",
       "    .dataframe thead th {\n",
       "        text-align: right;\n",
       "    }\n",
       "</style>\n",
       "<table border=\"1\" class=\"dataframe\">\n",
       "  <thead>\n",
       "    <tr style=\"text-align: right;\">\n",
       "      <th></th>\n",
       "      <th>geometry</th>\n",
       "      <th>idx</th>\n",
       "    </tr>\n",
       "  </thead>\n",
       "  <tbody>\n",
       "    <tr>\n",
       "      <th>0</th>\n",
       "      <td>MULTIPOINT (254575.200 6661631.500, 255727.900...</td>\n",
       "      <td>1</td>\n",
       "    </tr>\n",
       "  </tbody>\n",
       "</table>\n",
       "</div>"
      ],
      "text/plain": [
       "                                            geometry  idx\n",
       "0  MULTIPOINT (254575.200 6661631.500, 255727.900...    1"
      ]
     },
     "execution_count": 6,
     "metadata": {},
     "output_type": "execute_result"
    }
   ],
   "source": [
    "dissolvet = punkter.diss()\n",
    "dissolvet"
   ]
  },
  {
   "cell_type": "markdown",
   "metadata": {},
   "source": [
    "Som gjør det lettere å chaine flere funksjoner etter hverandre:"
   ]
  },
  {
   "cell_type": "code",
   "execution_count": 7,
   "metadata": {},
   "outputs": [],
   "source": [
    "import sys\n",
    "sys.path.append(r\"C:\\Users\\ort\\OneDrive - Statistisk sentralbyrå\\Dokumenter\\GitHub\")\n",
    "import geopandasgreier as gg\n",
    "\n",
    "dissolvet = (punkter\n",
    "             .buff(10)\n",
    "             .buff(10)\n",
    "             .buffdissexp(-10)\n",
    ")"
   ]
  },
  {
   "cell_type": "markdown",
   "metadata": {},
   "source": [
    "En ulempe er at man gjør seg avhengig av at dette funker: "
   ]
  },
  {
   "cell_type": "code",
   "execution_count": 8,
   "metadata": {},
   "outputs": [],
   "source": [
    "PandasObject.diss = diss"
   ]
  },
  {
   "cell_type": "markdown",
   "metadata": {},
   "source": [
    "Heldigvis kan man også gjøre dette med ren Python ved å lage en egen subclass av geopandas.GeoDataFrame:"
   ]
  },
  {
   "cell_type": "code",
   "execution_count": 2,
   "metadata": {},
   "outputs": [],
   "source": [
    "class MinGeoDataFrame(gpd.GeoDataFrame):\n",
    "    \n",
    "    def buff(self, avstand, resolution=50, **qwargs):\n",
    "        kopi = self.copy()\n",
    "        kopi[\"geometry\"] = kopi.buffer(avstand, resolution=resolution, **qwargs).buffer(0)\n",
    "        return MinGeoDataFrame(kopi)\n",
    "    \n",
    "    def diss(self, **qwargs):\n",
    "        kopi = self.copy()\n",
    "        kopi = kopi.loc[:, ~kopi.columns.str.contains('index|level_')]\n",
    "        \n",
    "        dissolvet = kopi.dissolve(**qwargs)\n",
    "\n",
    "        dissolvet[\"geometry\"] = dissolvet.geometry.apply(lambda x: x.buffer(0) if x.buffer(0).is_empty==False else x) #buffer(0) gir EMPTY POLYGON for punkter og linjer\n",
    "        \n",
    "        dissolvet = dissolvet.reset_index()\n",
    "        \n",
    "        dissolvet.columns = [\"_\".join(kolonne).strip(\"_\") \n",
    "                            if isinstance(kolonne, tuple) else kolonne \n",
    "                            for kolonne in dissolvet.columns]\n",
    "\n",
    "        dissolvet = dissolvet.loc[:, ~dissolvet.columns.str.contains('index|level_')]\n",
    "\n",
    "        return MinGeoDataFrame(dissolvet)"
   ]
  },
  {
   "cell_type": "markdown",
   "metadata": {},
   "source": [
    "Da må man legge til denne linja hver gang man leser en fil som en GeoDataFrame:"
   ]
  },
  {
   "cell_type": "code",
   "execution_count": 5,
   "metadata": {},
   "outputs": [],
   "source": [
    "punkter = MinGeoDataFrame(punkter)"
   ]
  },
  {
   "cell_type": "code",
   "execution_count": 7,
   "metadata": {},
   "outputs": [
    {
     "data": {
      "text/html": [
       "<div>\n",
       "<style scoped>\n",
       "    .dataframe tbody tr th:only-of-type {\n",
       "        vertical-align: middle;\n",
       "    }\n",
       "\n",
       "    .dataframe tbody tr th {\n",
       "        vertical-align: top;\n",
       "    }\n",
       "\n",
       "    .dataframe thead th {\n",
       "        text-align: right;\n",
       "    }\n",
       "</style>\n",
       "<table border=\"1\" class=\"dataframe\">\n",
       "  <thead>\n",
       "    <tr style=\"text-align: right;\">\n",
       "      <th></th>\n",
       "      <th>geometry</th>\n",
       "      <th>idx</th>\n",
       "    </tr>\n",
       "  </thead>\n",
       "  <tbody>\n",
       "    <tr>\n",
       "      <th>0</th>\n",
       "      <td>MULTIPOLYGON (((258089.471 6648494.779, 258089...</td>\n",
       "      <td>1</td>\n",
       "    </tr>\n",
       "  </tbody>\n",
       "</table>\n",
       "</div>"
      ],
      "text/plain": [
       "                                            geometry  idx\n",
       "0  MULTIPOLYGON (((258089.471 6648494.779, 258089...    1"
      ]
     },
     "execution_count": 7,
     "metadata": {},
     "output_type": "execute_result"
    }
   ],
   "source": [
    "dissolvet = (punkter\n",
    "             .buff(10)\n",
    "             .diss()\n",
    "             .dissolve()\n",
    ")\n",
    "dissolvet"
   ]
  },
  {
   "cell_type": "markdown",
   "metadata": {},
   "source": [
    "Og punktene er ikke overskrevet og bufret:"
   ]
  },
  {
   "cell_type": "code",
   "execution_count": null,
   "metadata": {},
   "outputs": [],
   "source": [
    "punkter"
   ]
  }
 ],
 "metadata": {
  "kernelspec": {
   "display_name": "Python 3.9.13 ('geo_env39')",
   "language": "python",
   "name": "python3"
  },
  "language_info": {
   "codemirror_mode": {
    "name": "ipython",
    "version": 3
   },
   "file_extension": ".py",
   "mimetype": "text/x-python",
   "name": "python",
   "nbconvert_exporter": "python",
   "pygments_lexer": "ipython3",
   "version": "3.9.13"
  },
  "orig_nbformat": 4,
  "vscode": {
   "interpreter": {
    "hash": "ec506855ce09a0171c1abd104fa4ec7f6a63ded3650b643e1df6c1136fb69d9c"
   }
  }
 },
 "nbformat": 4,
 "nbformat_minor": 2
}
